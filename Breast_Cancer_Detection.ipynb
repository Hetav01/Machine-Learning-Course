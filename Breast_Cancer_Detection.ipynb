{
  "nbformat": 4,
  "nbformat_minor": 0,
  "metadata": {
    "colab": {
      "name": "Breast Cancer Detection.ipynb",
      "provenance": [],
      "authorship_tag": "ABX9TyOHUf8sP+GTVttViQHz31Lo",
      "include_colab_link": true
    },
    "kernelspec": {
      "name": "python3",
      "display_name": "Python 3"
    },
    "language_info": {
      "name": "python"
    }
  },
  "cells": [
    {
      "cell_type": "markdown",
      "metadata": {
        "id": "view-in-github",
        "colab_type": "text"
      },
      "source": [
        "<a href=\"https://colab.research.google.com/github/Hetav01/Machine-Learning-Course/blob/main/Breast_Cancer_Detection.ipynb\" target=\"_parent\"><img src=\"https://colab.research.google.com/assets/colab-badge.svg\" alt=\"Open In Colab\"/></a>"
      ]
    },
    {
      "cell_type": "markdown",
      "source": [
        "# Breast Cancer Detection\n",
        "\n",
        "`My first Data Science Project.`"
      ],
      "metadata": {
        "id": "bBH2OeJcnOPj"
      }
    },
    {
      "cell_type": "markdown",
      "source": [
        "# Data Preprocessing"
      ],
      "metadata": {
        "id": "Z8PL4QsenbjX"
      }
    },
    {
      "cell_type": "code",
      "source": [
        "import numpy as np\n",
        "import matplotlib.pyplot as plt\n",
        "import pandas as pd"
      ],
      "metadata": {
        "id": "27sfMtmbey2q"
      },
      "execution_count": 7,
      "outputs": []
    },
    {
      "cell_type": "code",
      "source": [
        "dataset = pd.read_csv(\"breast_cancer.csv\")\n",
        "X = dataset.iloc[:, 1:-1].values\n",
        "y = dataset.iloc[:, -1].values"
      ],
      "metadata": {
        "id": "BrDj0zW5ekSM"
      },
      "execution_count": 12,
      "outputs": []
    },
    {
      "cell_type": "markdown",
      "source": [
        "# Splitting the data into training and test sets."
      ],
      "metadata": {
        "id": "FW4WB0TcfCYE"
      }
    },
    {
      "cell_type": "code",
      "source": [
        "from sklearn.model_selection import train_test_split\n",
        "X_train, X_test, y_train, y_test = train_test_split(X, y, test_size=0.3, random_state=20)"
      ],
      "metadata": {
        "id": "jmwDuk9JfBuJ"
      },
      "execution_count": 68,
      "outputs": []
    },
    {
      "cell_type": "code",
      "source": [
        "print(y_test)"
      ],
      "metadata": {
        "colab": {
          "base_uri": "https://localhost:8080/"
        },
        "id": "tqOZsJjJhIT3",
        "outputId": "33297d81-d76a-4ee1-9222-65ee3eca2adc"
      },
      "execution_count": 69,
      "outputs": [
        {
          "output_type": "stream",
          "name": "stdout",
          "text": [
            "[4 2 2 2 2 2 4 2 2 2 2 2 2 2 2 4 4 4 2 4 2 2 4 2 2 4 2 4 4 4 2 2 4 2 2 2 4\n",
            " 2 4 2 4 2 4 2 2 2 4 2 2 2 2 2 2 2 2 2 2 4 2 2 4 2 4 2 2 2 2 4 4 2 4 2 2 2\n",
            " 2 2 4 2 2 4 2 4 2 2 2 2 2 2 2 2 2 4 2 2 2 2 4 4 2 4 2 2 2 2 4 2 4 2 4 2 2\n",
            " 2 2 2 2 2 2 2 2 2 2 2 2 2 4 2 4 4 2 4 2 2 2 2 4 2 2 4 2 2 4 4 4 4 2 2 4 4\n",
            " 4 4 2 4 4 2 4 2 2 4 2 4 2 2 4 2 4 2 2 2 4 4 2 2 2 4 2 4 2 2 4 2 2 2 4 2 4\n",
            " 2 2 2 4 2 4 4 4 2 2 2 2 4 2 4 2 2 2 2 2]\n"
          ]
        }
      ]
    },
    {
      "cell_type": "markdown",
      "source": [
        "# Training the Logistic Regression Model"
      ],
      "metadata": {
        "id": "EuYHfzcUgClK"
      }
    },
    {
      "cell_type": "code",
      "source": [
        "from sklearn.preprocessing import StandardScaler\n",
        "from sklearn.linear_model import LogisticRegression\n",
        "sc = StandardScaler()\n",
        "sc.fit_transform(X_train, y_train)\n",
        "LogReg = LogisticRegression()\n",
        "LogReg.fit(X_train, y_train)\n"
      ],
      "metadata": {
        "colab": {
          "base_uri": "https://localhost:8080/"
        },
        "id": "Nx-OhWDHgB9d",
        "outputId": "8d8c69ac-ebbb-48e3-b19a-a8d656830ff7"
      },
      "execution_count": 70,
      "outputs": [
        {
          "output_type": "execute_result",
          "data": {
            "text/plain": [
              "LogisticRegression()"
            ]
          },
          "metadata": {},
          "execution_count": 70
        }
      ]
    },
    {
      "cell_type": "code",
      "source": [
        "y_pred = LogReg.predict(X_test)"
      ],
      "metadata": {
        "id": "dYDYGI49g9D4"
      },
      "execution_count": 71,
      "outputs": []
    },
    {
      "cell_type": "markdown",
      "source": [
        "# Make the Confusion Matrix"
      ],
      "metadata": {
        "id": "B8mUSlothXSy"
      }
    },
    {
      "cell_type": "code",
      "source": [
        "from sklearn.metrics import confusion_matrix, accuracy_score\n",
        "cm = confusion_matrix(y_test, y_pred)\n",
        "acs = accuracy_score(y_test, y_pred)\n",
        "print(cm)\n",
        "print(acs)"
      ],
      "metadata": {
        "colab": {
          "base_uri": "https://localhost:8080/"
        },
        "id": "gEyw6XorhNVa",
        "outputId": "843c60c0-a1c5-45c6-d03c-ec28e6145907"
      },
      "execution_count": 72,
      "outputs": [
        {
          "output_type": "stream",
          "name": "stdout",
          "text": [
            "[[131   7]\n",
            " [  3  64]]\n",
            "0.9512195121951219\n"
          ]
        }
      ]
    },
    {
      "cell_type": "code",
      "source": [
        "from sklearn.model_selection import cross_val_score\n",
        "accuracies = cross_val_score(estimator= LogReg, X = X_train, y = y_train, cv = 10)\n",
        "print(\"Accuracy: {:.2f}%\".format(accuracies.mean()*100))\n",
        "print(\"SD: {:.2f}%\".format(accuracies.std()*100))"
      ],
      "metadata": {
        "colab": {
          "base_uri": "https://localhost:8080/"
        },
        "id": "9mhSMvu0hyAm",
        "outputId": "a465b9a1-1f39-48fc-b9f6-ab041b679bc2"
      },
      "execution_count": 73,
      "outputs": [
        {
          "output_type": "stream",
          "name": "stdout",
          "text": [
            "Accuracy: 96.86%\n",
            "SD: 1.93%\n"
          ]
        }
      ]
    }
  ]
}